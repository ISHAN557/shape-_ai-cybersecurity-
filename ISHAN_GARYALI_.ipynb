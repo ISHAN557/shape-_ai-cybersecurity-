{
  "nbformat": 4,
  "nbformat_minor": 0,
  "metadata": {
    "colab": {
      "name": "ISHAN GARYALI .ipynb",
      "provenance": [],
      "collapsed_sections": [],
      "toc_visible": true
    },
    "kernelspec": {
      "name": "python3",
      "display_name": "Python 3"
    },
    "language_info": {
      "name": "python"
    }
  },
  "cells": [
    {
      "cell_type": "code",
      "metadata": {
        "id": "PHMv05ihWd4M",
        "colab": {
          "base_uri": "https://localhost:8080/"
        },
        "outputId": "e3c3868d-bee6-4e58-b5fc-94c1b0f01efe"
      },
      "source": [
        "import requests\n",
        "#import os\n",
        "from datetime import datetime\n",
        "\n",
        "api_key = '87d845b0b6cf29baa1a73cc34b067a95'\n",
        "location = input(\"Enter the city name: \")\n",
        "\n",
        "complete_api_link = \"https://api.openweathermap.org/data/2.5/weather?q=\"+location+\"&appid=\"+api_key\n",
        "api_link = requests.get(complete_api_link)\n",
        "api_data = api_link.json()\n",
        "\n",
        "#create variables to store and display data\n",
        "temp_city = ((api_data['main']['temp']) - 273.15)\n",
        "weather_desc = api_data['weather'][0]['description']\n",
        "hmdt = api_data['main']['humidity']\n",
        "wind_spd = api_data['wind']['speed']\n",
        "date_time = datetime.now().strftime(\"%d %b %Y | %I:%M:%S %p\")\n",
        "\n",
        "file = open('RESULT.txt','w')\n",
        "\n",
        "\n",
        "print (\"-------------------------------------------------------------\")\n",
        "print (\"Weather Stats for - {}  || {}\".format(location.upper(), date_time))\n",
        "print (\"-------------------------------------------------------------\")\n",
        "\n",
        "print (\"Current temperature is: {:.2f} deg C\".format(temp_city))\n",
        "print (\"Current weather desc  :\",weather_desc)\n",
        "print (\"Current Humidity      :\",hmdt, '%')\n",
        "print (\"Current wind speed    :\",wind_spd ,'kmph')\n",
        "\n",
        "file.write(\"-------------------------------------------------------------\" + '/n')\n",
        "file.write (\"Weather Stats for - {}  || {}\".format(location.upper(), date_time))\n",
        "file.write (\"-------------------------------------------------------------\" +  '/n')\n",
        "\n",
        "file.write (\"Current temperature is: 28.77 deg c\" +  '/n')\n",
        "file.write (\"Current weather desc  : clear sky\"   +  '/n')\n",
        "file.write (\"Current Humidity      : 28 %\"        +  '/n')\n",
        "file.write(\"Current wind speed    : 0.89 kmph\"    +  '/n') \n",
        "\n",
        "file.close()"
      ],
      "execution_count": 7,
      "outputs": [
        {
          "output_type": "stream",
          "text": [
            "Enter the city name: srinagar\n",
            "-------------------------------------------------------------\n",
            "Weather Stats for - SRINAGAR  || 23 Jun 2021 | 09:58:30 AM\n",
            "-------------------------------------------------------------\n",
            "Current temperature is: 28.77 deg C\n",
            "Current weather desc  : clear sky\n",
            "Current Humidity      : 28 %\n",
            "Current wind speed    : 0.89 kmph\n"
          ],
          "name": "stdout"
        }
      ]
    }
  ]
}